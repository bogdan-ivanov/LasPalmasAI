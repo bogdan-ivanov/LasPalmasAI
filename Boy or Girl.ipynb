{
 "cells": [
  {
   "cell_type": "markdown",
   "metadata": {},
   "source": [
    "# I. Data gathering and exploration\n",
    "\n",
    "Let's read the data and explore the corpus a bit"
   ]
  },
  {
   "cell_type": "code",
   "execution_count": 5,
   "metadata": {},
   "outputs": [
    {
     "name": "stdout",
     "output_type": "stream",
     "text": [
      "['Abagael', 'Abagail', 'Abbe', 'Abbey', 'Abbi', 'Abbie', 'Abby', 'Abigael', 'Abigail', 'Abigale']\n",
      "['Aamir', 'Aaron', 'Abbey', 'Abbie', 'Abbot', 'Abbott', 'Abby', 'Abdel', 'Abdul', 'Abdulkarim']\n",
      "#GirlNames= 5001\n",
      "#BoyNames= 2943\n"
     ]
    }
   ],
   "source": [
    "from nltk.corpus import names\n",
    "girl_names = names.words('female.txt')\n",
    "print(girl_names[:10])\n",
    "boy_names = names.words('male.txt')\n",
    "print(boy_names[:10])\n",
    "print(\"#GirlNames=\", len(girl_names))\n",
    "print(\"#BoyNames=\", len(boy_names))\n",
    "\n"
   ]
  },
  {
   "cell_type": "code",
   "execution_count": 7,
   "metadata": {},
   "outputs": [
    {
     "name": "stdout",
     "output_type": "stream",
     "text": [
      "Counter({'a': 1773, 'e': 1432, 'y': 461, 'n': 386, 'i': 317, 'l': 179, 'h': 105, 's': 93, 't': 68, 'r': 47, 'd': 39, 'o': 33, 'm': 13, 'g': 10, 'x': 10, 'b': 9, 'u': 6, 'w': 5, 'z': 4, 'k': 3, 'v': 2, 'p': 2, 'f': 2, ' ': 1, 'j': 1})\n",
      "Counter({'n': 478, 'e': 468, 'y': 332, 's': 230, 'd': 228, 'r': 190, 'l': 187, 'o': 165, 't': 164, 'h': 93, 'm': 70, 'k': 69, 'i': 50, 'g': 32, 'a': 29, 'f': 25, 'c': 25, 'b': 21, 'p': 18, 'w': 17, 'v': 16, 'u': 12, 'z': 11, 'x': 10, 'j': 3})\n"
     ]
    }
   ],
   "source": [
    "from collections import Counter\n",
    "fl_girls = Counter([name[-1] for name in girl_names])\n",
    "print(fl_girls)\n",
    "fl_boys = Counter([name[-1] for name in boy_names])\n",
    "print(fl_boys)"
   ]
  },
  {
   "cell_type": "markdown",
   "metadata": {},
   "source": [
    "# II. Feature Engineering\n",
    "\n",
    "What are the best markers that predict what gender a pronoun is?"
   ]
  },
  {
   "cell_type": "code",
   "execution_count": 9,
   "metadata": {},
   "outputs": [
    {
     "name": "stdout",
     "output_type": "stream",
     "text": [
      "{'last_letter': 'e'}\n"
     ]
    }
   ],
   "source": [
    "def features1(name):\n",
    "    return {'last_letter': name[-1]}\n",
    "\n",
    "print(features1('Abbe'))"
   ]
  },
  {
   "cell_type": "code",
   "execution_count": 23,
   "metadata": {},
   "outputs": [],
   "source": [
    "def features2(name):\n",
    "    return {\n",
    "        'last_letter': name[-1], \n",
    "        'last2_letter': name[-2:],\n",
    "    }"
   ]
  },
  {
   "cell_type": "code",
   "execution_count": 32,
   "metadata": {},
   "outputs": [],
   "source": [
    "def features3(name):\n",
    "    return {\n",
    "        'last_letter': name[-1], \n",
    "        'last2_letter': name[-2:],\n",
    "        'length': len(name),\n",
    "        'first_letter': name[0]\n",
    "    }"
   ]
  },
  {
   "cell_type": "code",
   "execution_count": 14,
   "metadata": {},
   "outputs": [
    {
     "name": "stdout",
     "output_type": "stream",
     "text": [
      "[({'last_letter': 's'}, 'girl'), ({'last_letter': 'r'}, 'boy'), ({'last_letter': 'n'}, 'boy'), ({'last_letter': 'y'}, 'boy'), ({'last_letter': 'e'}, 'girl'), ({'last_letter': 'y'}, 'girl'), ({'last_letter': 'l'}, 'boy'), ({'last_letter': 'a'}, 'girl'), ({'last_letter': 'n'}, 'girl'), ({'last_letter': 'n'}, 'girl')]\n"
     ]
    }
   ],
   "source": [
    "import random\n",
    "def build_dataset(feature_extractor):\n",
    "    boy_names, girl_names = names.words('male.txt'), names.words('female.txt')\n",
    "    boy_dataset = [(feature_extractor(name), 'boy') for name in boy_names]\n",
    "    girl_dataset = [(feature_extractor(name), 'girl') for name in girl_names]\n",
    "    dataset = boy_dataset + girl_dataset\n",
    "    random.shuffle(dataset)\n",
    "    cutoff = int(0.75 * len(dataset))\n",
    "    train_data, test_data = dataset[:cutoff], dataset[cutoff + 1:]\n",
    "    return train_data, test_data\n",
    "\n",
    "train_data, test_data = build_dataset(features1)\n",
    "print(train_data[:10])"
   ]
  },
  {
   "cell_type": "markdown",
   "metadata": {},
   "source": [
    "# III. Building a model\n",
    "\n",
    "Let's choose a simple model and train it on our dataset. Assess the performance."
   ]
  },
  {
   "cell_type": "code",
   "execution_count": 22,
   "metadata": {},
   "outputs": [
    {
     "name": "stdout",
     "output_type": "stream",
     "text": [
      "[({'last_letter': 'o'}, 'boy'), ({'last_letter': 'a'}, 'girl'), ({'last_letter': 'y'}, 'boy'), ({'last_letter': 'u'}, 'boy'), ({'last_letter': 'n'}, 'boy'), ({'last_letter': 'r'}, 'boy'), ({'last_letter': 'h'}, 'girl'), ({'last_letter': 'a'}, 'girl'), ({'last_letter': 'a'}, 'girl'), ({'last_letter': 'a'}, 'girl')]\n"
     ]
    },
    {
     "data": {
      "text/plain": [
       "'girl'"
      ]
     },
     "execution_count": 22,
     "metadata": {},
     "output_type": "execute_result"
    }
   ],
   "source": [
    "import nltk\n",
    "\n",
    "train_data, test_data = build_dataset(features1)\n",
    "# print(train_data[:10])\n",
    "name_guesser = nltk.DecisionTreeClassifier.train(train_data)\n",
    "name_guesser.classify(features1('Luca'))"
   ]
  },
  {
   "cell_type": "code",
   "execution_count": 27,
   "metadata": {},
   "outputs": [
    {
     "name": "stdout",
     "output_type": "stream",
     "text": [
      "last2_letter=Ag? ...................................... girl\n",
      "last2_letter=Al? ...................................... boy\n",
      "last2_letter=Bo? ...................................... girl\n",
      "last2_letter=Di? ...................................... girl\n",
      "last2_letter=Er? ...................................... boy\n",
      "last2_letter=Ev? ...................................... boy\n",
      "last2_letter=Ez? ...................................... boy\n",
      "last2_letter=Hy? ...................................... boy\n",
      "last2_letter=Jo? ...................................... girl\n",
      "last2_letter=Ki? ...................................... girl\n",
      "last2_letter=La? ...................................... girl\n",
      "last2_letter=Si? ...................................... boy\n",
      "last2_letter=Ty? ...................................... boy\n",
      "last2_letter=Vi? ...................................... girl\n",
      "last2_letter=aa? ...................................... boy\n",
      "last2_letter=ab? ...................................... boy\n",
      "last2_letter=ac? ...................................... boy\n",
      "last2_letter=ad? ...................................... boy\n",
      "last2_letter=ae? ...................................... girl\n",
      "last2_letter=af? ...................................... boy\n",
      "last2_letter=ag? ...................................... boy\n",
      "last2_letter=ah? ...................................... girl\n",
      "last2_letter=ai? ...................................... boy\n",
      "last2_letter=ak? ...................................... boy\n",
      "last2_letter=al? ...................................... girl\n",
      "last2_letter=am? ...................................... boy\n",
      "last2_letter=an? ...................................... boy\n",
      "last2_letter=ao? ...................................... boy\n",
      "last2_letter=ar? ...................................... boy\n",
      "last2_letter=as? ...................................... boy\n",
      "last2_letter=at? ...................................... boy\n",
      "last2_letter=au? ...................................... boy\n",
      "last2_letter=av? ...................................... boy\n",
      "last2_letter=aw? ...................................... boy\n",
      "last2_letter=ax? ...................................... boy\n",
      "last2_letter=ay? ...................................... boy\n",
      "last2_letter=ba? ...................................... girl\n",
      "last2_letter=bb? ...................................... boy\n",
      "last2_letter=be? ...................................... girl\n",
      "last2_letter=bi? ...................................... girl\n",
      "last2_letter=bo? ...................................... boy\n",
      "last2_letter=bs? ...................................... girl\n",
      "last2_letter=by? ...................................... boy\n",
      "last2_letter=ca? ...................................... girl\n",
      "last2_letter=ce? ...................................... girl\n",
      "last2_letter=ch? ...................................... boy\n",
      "last2_letter=ci? ...................................... girl\n",
      "last2_letter=ck? ...................................... boy\n",
      "last2_letter=co? ...................................... boy\n",
      "last2_letter=ct? ...................................... boy\n",
      "last2_letter=cy? ...................................... girl\n",
      "last2_letter=da? ...................................... girl\n",
      "last2_letter=dd? ...................................... boy\n",
      "last2_letter=de? ...................................... girl\n",
      "last2_letter=di? ...................................... girl\n",
      "last2_letter=do? ...................................... boy\n",
      "last2_letter=ds? ...................................... boy\n",
      "last2_letter=dt? ...................................... boy\n",
      "last2_letter=dy? ...................................... girl\n",
      "last2_letter=e ? ...................................... girl\n",
      "last2_letter=ea? ...................................... girl\n",
      "last2_letter=eb? ...................................... boy\n",
      "last2_letter=ec? ...................................... boy\n",
      "last2_letter=ed? ...................................... boy\n",
      "last2_letter=ee? ...................................... girl\n",
      "last2_letter=ef? ...................................... boy\n",
      "last2_letter=eg? ...................................... boy\n",
      "last2_letter=eh? ...................................... girl\n",
      "last2_letter=ei? ...................................... boy\n",
      "last2_letter=ej? ...................................... boy\n",
      "last2_letter=ek? ...................................... boy\n",
      "last2_letter=el? ...................................... girl\n",
      "last2_letter=em? ...................................... boy\n",
      "last2_letter=en? ...................................... girl\n",
      "last2_letter=eo? ...................................... boy\n",
      "last2_letter=ep? ...................................... boy\n",
      "last2_letter=er? ...................................... boy\n",
      "last2_letter=es? ...................................... boy\n",
      "last2_letter=et? ...................................... girl\n",
      "last2_letter=ev? ...................................... boy\n",
      "last2_letter=ew? ...................................... boy\n",
      "last2_letter=ex? ...................................... girl\n",
      "last2_letter=ey? ...................................... girl\n",
      "last2_letter=ez? ...................................... girl\n",
      "last2_letter=fa? ...................................... girl\n",
      "last2_letter=fe? ...................................... boy\n",
      "last2_letter=ff? ...................................... boy\n",
      "last2_letter=fi? ...................................... girl\n",
      "last2_letter=fo? ...................................... boy\n",
      "last2_letter=ft? ...................................... boy\n",
      "last2_letter=fy? ...................................... boy\n",
      "last2_letter=ga? ...................................... girl\n",
      "last2_letter=ge? ...................................... boy\n",
      "last2_letter=gg? ...................................... boy\n",
      "last2_letter=gh? ...................................... boy\n",
      "last2_letter=gi? ...................................... girl\n",
      "last2_letter=go? ...................................... boy\n",
      "last2_letter=gs? ...................................... boy\n",
      "last2_letter=gt? ...................................... boy\n",
      "last2_letter=gy? ...................................... girl\n",
      "last2_letter=ha? ...................................... girl\n",
      "last2_letter=he? ...................................... girl\n",
      "last2_letter=hi? ...................................... girl\n",
      "last2_letter=hn? ...................................... boy\n",
      "last2_letter=ho? ...................................... boy\n",
      "last2_letter=ht? ...................................... boy\n",
      "last2_letter=hu? ...................................... boy\n",
      "last2_letter=hy? ...................................... girl\n",
      "last2_letter=ia? ...................................... girl\n",
      "last2_letter=ib? ...................................... girl\n",
      "last2_letter=ic? ...................................... boy\n",
      "last2_letter=id? ...................................... boy\n",
      "last2_letter=ie? ...................................... girl\n",
      "last2_letter=ig? ...................................... boy\n",
      "last2_letter=ik? ...................................... boy\n",
      "last2_letter=il? ...................................... boy\n",
      "last2_letter=im? ...................................... boy\n",
      "last2_letter=in? ...................................... boy\n",
      "last2_letter=io? ...................................... boy\n",
      "last2_letter=ip? ...................................... boy\n",
      "last2_letter=ir? ...................................... boy\n",
      "last2_letter=is? ...................................... girl\n",
      "last2_letter=it? ...................................... girl\n",
      "last2_letter=ix? ...................................... girl\n",
      "last2_letter=iz? ...................................... girl\n",
      "last2_letter=ja? ...................................... girl\n",
      "last2_letter=je? ...................................... girl\n",
      "last2_letter=ji? ...................................... boy\n",
      "last2_letter=jo? ...................................... girl\n",
      "last2_letter=jy? ...................................... girl\n",
      "last2_letter=ka? ...................................... girl\n",
      "last2_letter=ke? ...................................... boy\n",
      "last2_letter=ki? ...................................... girl\n",
      "last2_letter=ko? ...................................... girl\n",
      "last2_letter=ks? ...................................... boy\n",
      "last2_letter=ky? ...................................... girl\n",
      "last2_letter=la? ...................................... girl\n",
      "last2_letter=ld? ...................................... boy\n",
      "last2_letter=le? ...................................... girl\n",
      "last2_letter=lf? ...................................... boy\n",
      "last2_letter=li? ...................................... girl\n",
      "last2_letter=ll? ...................................... boy\n",
      "last2_letter=lm? ...................................... boy\n",
      "last2_letter=ln? ...................................... boy\n",
      "last2_letter=lo? ...................................... boy\n",
      "last2_letter=ls? ...................................... boy\n",
      "last2_letter=lt? ...................................... boy\n",
      "last2_letter=lu? ...................................... girl\n",
      "last2_letter=ly? ...................................... girl\n",
      "last2_letter=ma? ...................................... girl\n",
      "last2_letter=mb? ...................................... girl\n",
      "last2_letter=me? ...................................... boy\n",
      "last2_letter=mi? ...................................... girl\n",
      "last2_letter=mo? ...................................... boy\n",
      "last2_letter=ms? ...................................... boy\n",
      "last2_letter=my? ...................................... girl\n",
      "last2_letter=na? ...................................... girl\n",
      "last2_letter=nc? ...................................... boy\n",
      "last2_letter=nd? ...................................... boy\n",
      "last2_letter=ne? ...................................... girl\n",
      "last2_letter=ng? ...................................... boy\n",
      "last2_letter=ni? ...................................... girl\n",
      "last2_letter=nk? ...................................... boy\n",
      "last2_letter=nn? ...................................... girl\n",
      "last2_letter=no? ...................................... boy\n",
      "last2_letter=ns? ...................................... boy\n",
      "last2_letter=nt? ...................................... boy\n",
      "last2_letter=ny? ...................................... girl\n",
      "last2_letter=nz? ...................................... boy\n",
      "last2_letter=ob? ...................................... boy\n",
      "last2_letter=od? ...................................... boy\n",
      "last2_letter=oe? ...................................... girl\n",
      "last2_letter=og? ...................................... boy\n",
      "last2_letter=oh? ...................................... boy\n",
      "last2_letter=ok? ...................................... boy\n",
      "last2_letter=ol? ...................................... girl\n",
      "last2_letter=om? ...................................... boy\n",
      "last2_letter=on? ...................................... boy\n",
      "last2_letter=oo? ...................................... girl\n",
      "last2_letter=op? ...................................... boy\n",
      "last2_letter=or? ...................................... boy\n",
      "last2_letter=os? ...................................... boy\n",
      "last2_letter=ot? ...................................... boy\n",
      "last2_letter=ou? ...................................... boy\n",
      "last2_letter=ov? ...................................... boy\n",
      "last2_letter=ow? ...................................... boy\n",
      "last2_letter=ox? ...................................... boy\n",
      "last2_letter=oy? ...................................... boy\n",
      "last2_letter=oz? ...................................... girl\n",
      "last2_letter=pa? ...................................... girl\n",
      "last2_letter=pe? ...................................... boy\n",
      "last2_letter=ph? ...................................... boy\n",
      "last2_letter=pi? ...................................... girl\n",
      "last2_letter=pp? ...................................... boy\n",
      "last2_letter=py? ...................................... girl\n",
      "last2_letter=ra? ...................................... girl\n",
      "last2_letter=rb? ...................................... girl\n",
      "last2_letter=rc? ...................................... boy\n",
      "last2_letter=rd? ...................................... boy\n",
      "last2_letter=re? ...................................... girl\n",
      "last2_letter=rg? ...................................... girl\n",
      "last2_letter=ri? ...................................... girl\n",
      "last2_letter=rj? ...................................... girl\n",
      "last2_letter=rk? ...................................... boy\n",
      "last2_letter=rl? ...................................... girl\n",
      "last2_letter=rm? ...................................... boy\n",
      "last2_letter=rn? ...................................... boy\n",
      "last2_letter=ro? ...................................... boy\n",
      "last2_letter=rr? ...................................... boy\n",
      "last2_letter=rs? ...................................... boy\n",
      "last2_letter=rt? ...................................... boy\n",
      "last2_letter=rv? ...................................... boy\n",
      "last2_letter=ry? ...................................... boy\n",
      "last2_letter=sa? ...................................... girl\n",
      "last2_letter=se? ...................................... girl\n",
      "last2_letter=sh? ...................................... boy\n",
      "last2_letter=si? ...................................... girl\n",
      "last2_letter=so? ...................................... boy\n",
      "last2_letter=ss? ...................................... girl\n",
      "last2_letter=st? ...................................... boy\n",
      "last2_letter=sy? ...................................... girl\n",
      "last2_letter=ta? ...................................... girl\n",
      "last2_letter=te? ...................................... girl\n",
      "last2_letter=th? ...................................... girl\n",
      "last2_letter=ti? ...................................... girl\n",
      "last2_letter=to? ...................................... boy\n",
      "last2_letter=tr? ...................................... boy\n",
      "last2_letter=ts? ...................................... boy\n",
      "last2_letter=tt? ...................................... boy\n",
      "last2_letter=tu? ...................................... boy\n",
      "last2_letter=ty? ...................................... girl\n",
      "last2_letter=tz? ...................................... boy\n",
      "last2_letter=ua? ...................................... boy\n",
      "last2_letter=uc? ...................................... boy\n",
      "last2_letter=ud? ...................................... boy\n",
      "last2_letter=ue? ...................................... boy\n",
      "last2_letter=ug? ...................................... boy\n",
      "last2_letter=ui? ...................................... girl\n",
      "last2_letter=ul? ...................................... boy\n",
      "last2_letter=um? ...................................... boy\n",
      "last2_letter=un? ...................................... girl\n",
      "last2_letter=up? ...................................... boy\n",
      "last2_letter=ur? ...................................... boy\n",
      "last2_letter=us? ...................................... boy\n",
      "last2_letter=ut? ...................................... boy\n",
      "last2_letter=ux? ...................................... girl\n",
      "last2_letter=uy? ...................................... boy\n",
      "last2_letter=va? ...................................... girl\n",
      "last2_letter=ve? ...................................... boy\n",
      "last2_letter=vi? ...................................... boy\n",
      "last2_letter=vo? ...................................... boy\n",
      "last2_letter=vy? ...................................... boy\n",
      "last2_letter=we? ...................................... boy\n",
      "last2_letter=wn? ...................................... girl\n",
      "last2_letter=xa? ...................................... girl\n",
      "last2_letter=xe? ...................................... boy\n",
      "last2_letter=xi? ...................................... girl\n",
      "last2_letter=xy? ...................................... girl\n",
      "last2_letter=ya? ...................................... girl\n",
      "last2_letter=yb? ...................................... girl\n",
      "last2_letter=yd? ...................................... boy\n",
      "last2_letter=ye? ...................................... girl\n",
      "last2_letter=yl? ...................................... girl\n",
      "last2_letter=ym? ...................................... girl\n",
      "last2_letter=yn? ...................................... girl\n",
      "last2_letter=ys? ...................................... girl\n",
      "last2_letter=yt? ...................................... girl\n",
      "last2_letter=za? ...................................... girl\n",
      "last2_letter=ze? ...................................... girl\n",
      "last2_letter=zi? ...................................... girl\n",
      "last2_letter=zo? ...................................... boy\n",
      "last2_letter=zy? ...................................... girl\n",
      "\n"
     ]
    }
   ],
   "source": [
    "import nltk\n",
    "\n",
    "train_data, test_data = build_dataset(features2)\n",
    "# print(train_data[:10])\n",
    "\n",
    "name_guesser = nltk.DecisionTreeClassifier.train(train_data)\n",
    "name_guesser.classify(features2('Luca'))\n",
    "\n",
    "print(name_guesser.pretty_format())"
   ]
  },
  {
   "cell_type": "code",
   "execution_count": 45,
   "metadata": {},
   "outputs": [
    {
     "name": "stdout",
     "output_type": "stream",
     "text": [
      "girl\n",
      "boy\n",
      "boy\n",
      "girl\n",
      "girl\n",
      "girl\n",
      "girl\n",
      "0.7808564231738035\n"
     ]
    }
   ],
   "source": [
    "import nltk\n",
    "\n",
    "train_data, test_data = build_dataset(features2)\n",
    "# print(train_data[:10])\n",
    "\n",
    "name_guesser = nltk.DecisionTreeClassifier.train(train_data)\n",
    "print(name_guesser.classify(features3('Luca')))\n",
    "print(name_guesser.classify(features3('Luke')))\n",
    "print(name_guesser.classify(features3('John')))\n",
    "print(name_guesser.classify(features3('Lara')))\n",
    "print(name_guesser.classify(features3('Laura')))\n",
    "print(name_guesser.classify(features3('Andrea')))\n",
    "print(name_guesser.classify(features3('Andrea')))\n",
    "\n",
    "print(nltk.classify.accuracy(name_guesser, test_data))"
   ]
  },
  {
   "cell_type": "code",
   "execution_count": 51,
   "metadata": {},
   "outputs": [
    {
     "name": "stdout",
     "output_type": "stream",
     "text": [
      "[({'last_letter': 'h', 'last2_letter': 'th'}, 'boy'), ({'last_letter': 'a', 'last2_letter': 'ta'}, 'girl'), ({'last_letter': 'a', 'last2_letter': 'ha'}, 'girl'), ({'last_letter': 'y', 'last2_letter': 'ny'}, 'girl'), ({'last_letter': 'i', 'last2_letter': 'fi'}, 'girl'), ({'last_letter': 'i', 'last2_letter': 'ri'}, 'boy'), ({'last_letter': 't', 'last2_letter': 'tt'}, 'boy'), ({'last_letter': 't', 'last2_letter': 'at'}, 'girl'), ({'last_letter': 'a', 'last2_letter': 'ea'}, 'boy'), ({'last_letter': 'i', 'last2_letter': 'di'}, 'girl')]\n",
      "['girl', 'girl', 'girl', 'girl', 'girl', 'girl', 'boy', 'boy', 'girl', 'girl']\n",
      "['boy', 'girl', 'girl', 'girl', 'girl', 'boy', 'boy', 'girl', 'boy', 'girl']\n",
      "0.7808564231738035\n"
     ]
    }
   ],
   "source": [
    "print(test_data[:10])\n",
    "labels, predictions = [], []\n",
    "for data_point in test_data:\n",
    "    labels.append(data_point[1])\n",
    "    predictions.append(name_guesser.classify(data_point[0]))\n",
    "    \n",
    "print(predictions[:10])\n",
    "print(labels[:10])\n",
    "\n",
    "correct_predictions = 0\n",
    "total_prediction = 0\n",
    "\n",
    "for p, l in zip(predictions, labels):\n",
    "    if p == l:\n",
    "        correct_predictions += 1\n",
    "        \n",
    "    total_prediction += 1\n",
    "    \n",
    "print(correct_predictions / total_prediction)"
   ]
  }
 ],
 "metadata": {
  "kernelspec": {
   "display_name": "Python 3",
   "language": "python",
   "name": "python3"
  },
  "language_info": {
   "codemirror_mode": {
    "name": "ipython",
    "version": 3
   },
   "file_extension": ".py",
   "mimetype": "text/x-python",
   "name": "python",
   "nbconvert_exporter": "python",
   "pygments_lexer": "ipython3",
   "version": "3.6.1"
  }
 },
 "nbformat": 4,
 "nbformat_minor": 2
}
